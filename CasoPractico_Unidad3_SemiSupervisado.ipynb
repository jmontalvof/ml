{
 "cells": [
  {
   "cell_type": "markdown",
   "metadata": {},
   "source": [
    "# Caso Práctico Unidad 3: Aprendizaje Semi-Supervisado"
   ]
  },
  {
   "cell_type": "markdown",
   "metadata": {},
   "source": [
    "En este caso práctico vamos a poner en práctica las técnicas de aprendizaje semi-supervisado que hemos visto en clase. \n",
    "\n",
    "Para este caso se han creado unos datos sintéticos que simulan un problema de clasificación binaria con 5 características. Los datos se dividen en dos datasets:\n",
    "* 'supervisado_train.csv': casi 1000 muestras de entrenamiento pero únicamente 6 de ellas están etiquetadas.\n",
    "* 'supervisado_test.csv': 100 muestras etiquetadas que únicamente se usarán para evaluar el rendimiento del modelo.\n",
    "\n",
    "¿Seremos capaces de entrenar un modelo de ML con únicamente 6 muestras etiquetadas?\n",
    "\n",
    "\n",
    "3. Modelo de Auto-Aprendizaje\n",
    "\n",
    "Por último, vamos a utilizar un modelo de auto-aprendizaje y seguir los mismos pasos que en el modelo anterior.\n",
    "\n",
    "La clase que debemos utilizar se llama `SelfTrainingClassifier`, también dentro de la librería de `sklearn.semi_supervised`. Además de poner los targets no etiquetados a -1 en este caso tenemos que enviarle el modelo base que queremos utilizar en nuestro auto-aprendizaje, prueba tanto con regresión logística como con un Support Vector Machine.\n",
    "\n"
   ]
  },
  {
   "cell_type": "code",
   "execution_count": 27,
   "metadata": {},
   "outputs": [],
   "source": [
    "# Imporación de librerías y lectura de datos\n",
    "# Comprueba las distribuciones del target en cada dataset\n",
    "import pandas as pd\n",
    "from sklearn.linear_model import LogisticRegression\n",
    "from sklearn.metrics import accuracy_score"
   ]
  },
  {
   "cell_type": "markdown",
   "metadata": {},
   "source": [
    "### 1. Modelo de Regresión Logística\n",
    "\n",
    "Entrena y evalúa un modelo normal de aprendizaje semisupervisado utilizando únicamente las 6 muestras etiquetadas disponibles en train y extrae las métricas de evaluación (accuracy, precisión, recall...) con el conjunto de test. ¿Qué te parecen los resultados?"
   ]
  },
  {
   "cell_type": "code",
   "execution_count": 30,
   "metadata": {},
   "outputs": [],
   "source": [
    " # Cargar los datos\n",
    "train_data = pd.read_csv('data/semisupervisado_train.csv')\n",
    "test_data = pd.read_csv('data/semisupervisado_test.csv')"
   ]
  },
  {
   "cell_type": "code",
   "execution_count": 32,
   "metadata": {},
   "outputs": [],
   "source": [
    "# Separar las muestras etiquetadas y no etiquetadas\n",
    "train_labeled = train_data.dropna(subset=['target'])\n",
    "train_unlabeled = train_data[train_data['target'].isna()]"
   ]
  },
  {
   "cell_type": "code",
   "execution_count": 34,
   "metadata": {},
   "outputs": [],
   "source": [
    "# Separar características y etiquetas\n",
    "X_train_labeled = train_labeled.drop(columns=['target'])\n",
    "y_train_labeled = train_labeled['target']\n",
    "X_train_unlabeled = train_unlabeled.drop(columns=['target'])\n",
    "X_test = test_data.drop(columns=['target'])\n",
    "y_test = test_data['target']"
   ]
  },
  {
   "cell_type": "code",
   "execution_count": 36,
   "metadata": {},
   "outputs": [
    {
     "name": "stdout",
     "output_type": "stream",
     "text": [
      "Precisión con supervisado: 0.47\n"
     ]
    }
   ],
   "source": [
    "# Paso 1: Regresión Logística Supervisada\n",
    "logistic_model = LogisticRegression()\n",
    "logistic_model.fit(X_train_labeled, y_train_labeled)\n",
    "\n",
    "# Evaluar el modelo en el conjunto de prueba\n",
    "y_pred = logistic_model.predict(X_test)\n",
    "accuracy_supervised = accuracy_score(y_test, y_pred)\n",
    "print(f'Precisión con supervisado: {accuracy_supervised:.2f}')"
   ]
  },
  {
   "cell_type": "markdown",
   "metadata": {},
   "source": [
    "### 2. Modelo de Propagación de Etiquetas\n",
    "\n",
    "Ahora vamos a utilizar todos los datos de entrenamiento disponibles mediante un modelo de aprendizaje supervisado, concretamente el de propagación de etiquetas.\n",
    "\n",
    "Recuerda que para ello utilizaremos el modelo `LabelPropagation` dentro de la librería de `sklearn.semi_supervised` y que para entrenarlo debemos poner el target a -1 en aquellas muestras no etiquetadas.\n",
    "\n",
    "Evalúa de nuevo el modelo con el conjunto de test y compara los resultados con el modelo anterior."
   ]
  },
  {
   "cell_type": "code",
   "execution_count": 39,
   "metadata": {},
   "outputs": [
    {
     "name": "stderr",
     "output_type": "stream",
     "text": [
      "/var/folders/7w/phbtmgpx4zgf7wtnh6ql2zlr0000gn/T/ipykernel_2240/2606035121.py:2: SettingWithCopyWarning: \n",
      "A value is trying to be set on a copy of a slice from a DataFrame.\n",
      "Try using .loc[row_indexer,col_indexer] = value instead\n",
      "\n",
      "See the caveats in the documentation: https://pandas.pydata.org/pandas-docs/stable/user_guide/indexing.html#returning-a-view-versus-a-copy\n",
      "  train_unlabeled['target'] = predicted_labels_unlabeled\n"
     ]
    }
   ],
   "source": [
    "predicted_labels_unlabeled = logistic_model.predict(X_train_unlabeled)\n",
    "train_unlabeled['target'] = predicted_labels_unlabeled"
   ]
  },
  {
   "cell_type": "code",
   "execution_count": 41,
   "metadata": {},
   "outputs": [],
   "source": [
    "# Crear el conjunto de datos combinado\n",
    "combined_train_data = pd.concat([train_labeled, train_unlabeled])\n",
    "X_combined_train = combined_train_data.drop(columns=['target'])\n",
    "y_combined_train = combined_train_data['target']"
   ]
  },
  {
   "cell_type": "code",
   "execution_count": 43,
   "metadata": {},
   "outputs": [
    {
     "name": "stdout",
     "output_type": "stream",
     "text": [
      "Precisión con propagación de etiquetas: 0.48\n"
     ]
    }
   ],
   "source": [
    "# Reentrenar con datos propagados\n",
    "logistic_model.fit(X_combined_train, y_combined_train)\n",
    "y_pred_combined = logistic_model.predict(X_test)\n",
    "accuracy_propagation = accuracy_score(y_test, y_pred_combined)\n",
    "print(f'Precisión con propagación de etiquetas: {accuracy_propagation:.2f}')"
   ]
  },
  {
   "cell_type": "markdown",
   "metadata": {},
   "source": [
    "\n",
    "### 3. Modelo de Auto-Aprendizaje\n",
    "\n",
    "Por último, vamos a utilizar un modelo de auto-aprendizaje y seguir los mismos pasos que en el modelo anterior.\n",
    "\n",
    "La clase que debemos utilizar se llama `SelfTrainingClassifier`, también dentro de la librería de `sklearn.semi_supervised`. Además de poner los targets no etiquetados a -1 en este caso tenemos que enviarle el modelo base que queremos utilizar en nuestro auto-aprendizaje, prueba tanto con regresión logística como con un Support Vector Machine."
   ]
  },
  {
   "cell_type": "code",
   "execution_count": 46,
   "metadata": {},
   "outputs": [
    {
     "name": "stdout",
     "output_type": "stream",
     "text": [
      "Precisión con autoaprendizaje: 0.48\n"
     ]
    },
    {
     "name": "stderr",
     "output_type": "stream",
     "text": [
      "/var/folders/7w/phbtmgpx4zgf7wtnh6ql2zlr0000gn/T/ipykernel_2240/3720480238.py:7: SettingWithCopyWarning: \n",
      "A value is trying to be set on a copy of a slice from a DataFrame.\n",
      "Try using .loc[row_indexer,col_indexer] = value instead\n",
      "\n",
      "See the caveats in the documentation: https://pandas.pydata.org/pandas-docs/stable/user_guide/indexing.html#returning-a-view-versus-a-copy\n",
      "  train_unlabeled['target'] = predicted_labels_unlabeled\n"
     ]
    }
   ],
   "source": [
    "max_iterations = 5\n",
    "current_accuracy = accuracy_propagation\n",
    "\n",
    "for iteration in range(max_iterations):\n",
    "    # Predecir las etiquetas de los datos no etiquetados\n",
    "    predicted_labels_unlabeled = logistic_model.predict(X_train_unlabeled)\n",
    "    train_unlabeled['target'] = predicted_labels_unlabeled\n",
    "\n",
    "    # Recombinar los datos\n",
    "    combined_train_data = pd.concat([train_labeled, train_unlabeled])\n",
    "    X_combined_train = combined_train_data.drop(columns=['target'])\n",
    "    y_combined_train = combined_train_data['target']\n",
    "\n",
    "    # Reentrenar el modelo\n",
    "    logistic_model.fit(X_combined_train, y_combined_train)\n",
    "    \n",
    "    # Evaluar el modelo en el conjunto de prueba\n",
    "    y_pred_combined = logistic_model.predict(X_test)\n",
    "    new_accuracy = accuracy_score(y_test, y_pred_combined)\n",
    "\n",
    "    # Detener si no hay mejora\n",
    "    if new_accuracy > current_accuracy:\n",
    "        current_accuracy = new_accuracy\n",
    "    else:\n",
    "        break\n",
    "\n",
    "print(f'Precisión con autoaprendizaje: {current_accuracy:.2f}')"
   ]
  },
  {
   "cell_type": "code",
   "execution_count": 48,
   "metadata": {},
   "outputs": [],
   "source": [
    "# \n",
    "# En resumen, aunque los métodos semisupervisados aplicados\n",
    "# muestran una ligera mejora, con tan pocos datos etiquetados es difícil obtener un modelo confiable\n",
    "#"
   ]
  },
  {
   "cell_type": "code",
   "execution_count": null,
   "metadata": {},
   "outputs": [],
   "source": []
  }
 ],
 "metadata": {
  "colab": {
   "name": "How much does this house cost.ipynb",
   "provenance": [],
   "version": "0.3.2"
  },
  "kernelspec": {
   "display_name": "Python 3 (ipykernel)",
   "language": "python",
   "name": "python3"
  },
  "language_info": {
   "codemirror_mode": {
    "name": "ipython",
    "version": 3
   },
   "file_extension": ".py",
   "mimetype": "text/x-python",
   "name": "python",
   "nbconvert_exporter": "python",
   "pygments_lexer": "ipython3",
   "version": "3.12.4"
  }
 },
 "nbformat": 4,
 "nbformat_minor": 4
}
